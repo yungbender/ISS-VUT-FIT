{
 "cells": [
  {
   "cell_type": "markdown",
   "metadata": {},
   "source": [
    "# Riešenie protokolu z predmetu signály a systémy\n",
    " Autor: Tomáš Sasák (xsasak01)\n",
    " \n",
    " Presnejší popis riešenia sa nachádza v priloženom pdf súbore."
   ]
  },
  {
   "cell_type": "markdown",
   "metadata": {},
   "source": [
    "## Riešenie úlohy 1."
   ]
  },
  {
   "cell_type": "code",
   "execution_count": 1,
   "metadata": {},
   "outputs": [
    {
     "name": "stdout",
     "output_type": "stream",
     "text": [
      "Vzorkovacia frekvencia: 16000 [Hz]\n",
      "Pocet vzorkov signalu: 32000 [Vzorok]\n",
      "Dlzka signalu: 2.0 [s]\n",
      "Pocet binarnych symbolov signalu: 2000.0 [binarny symbol]\n"
     ]
    }
   ],
   "source": [
    "from scipy.io import wavfile\n",
    "\n",
    "# Open the signal\n",
    "fs, s = wavfile.read(\"xsasak01.wav\")\n",
    "print (\"Vzorkovacia frekvencia:\", fs, \"[Hz]\")\n",
    "\n",
    "# Normalization of the sound (-1,1)\n",
    "s = s / 2**15\n",
    "print (\"Pocet vzorkov signalu:\", s.size,\"[Vzorok]\")\n",
    "\n",
    "# Calculation of length of the signal in sec \n",
    "s_len = s.size / fs\n",
    "print (\"Dlzka signalu:\", s_len,\"[s]\")\n",
    "\n",
    "# Calculation to get count of binary symbols\n",
    "symbols_count = s.size / 16\n",
    "print (\"Pocet binarnych symbolov signalu:\", symbols_count, \"[binarny symbol]\")"
   ]
  },
  {
   "cell_type": "markdown",
   "metadata": {},
   "source": [
    "## Riešenie úlohy 2."
   ]
  },
  {
   "cell_type": "code",
   "execution_count": 2,
   "metadata": {},
   "outputs": [
    {
     "name": "stdout",
     "output_type": "stream",
     "text": [
      "Prekódovaný signál má dĺžku: 2000 [binárny symbol]\n"
     ]
    }
   ],
   "source": [
    "import numpy\n",
    "\n",
    "\n",
    "symbols = numpy.array([], dtype=numpy.float)\n",
    "\n",
    "for i in range(0, s.size, 16):\n",
    "    mid = i + 7\n",
    "    if mid > s.size:\n",
    "        break\n",
    "    if s[mid] > 0:\n",
    "        symbols = numpy.append(symbols, 1)\n",
    "    elif s[mid] < 0:\n",
    "        symbols = numpy.append(symbols, 0)\n",
    "    \n",
    "print(\"Prekódovaný signál má dĺžku:\", symbols.size, \"[binárny symbol]\")\n",
    "# Set up the plot\n",
    "\n",
    "\n",
    "# Time based on one sample: 1 / fs\n",
    "one_sample = 1 / fs\n",
    "\n",
    "# Calculation, of how much samples can be represented in 0.020ms\n",
    "samples_20ms = int(0.020 * fs)\n",
    "\n",
    "# Create array, which represents axis X (0.000 - 0.020)\n",
    "axis_x = numpy.array([], dtype=numpy.float)\n",
    "\n",
    "# Create the axis\n",
    "for i in range(0, samples_20ms):\n",
    "    axis_x = numpy.append(axis_x, (i * one_sample))\n",
    "\n",
    "# Plot out the .wav sound for 0.020 s\n",
    "        \n"
   ]
  },
  {
   "cell_type": "markdown",
   "metadata": {},
   "source": [
    "## Riešenie úlohy 3."
   ]
  },
  {
   "cell_type": "code",
   "execution_count": 3,
   "metadata": {
    "scrolled": true
   },
   "outputs": [
    {
     "name": "stdout",
     "output_type": "stream",
     "text": [
      "Filter je stabilný\n"
     ]
    }
   ],
   "source": [
    "import scipy.signal as sp\n",
    "\n",
    "# Filter\n",
    "B = [0.0192, -0.0185, -0.0185, 0.0192]\n",
    "A = [1.0000, -2.8870, 2.7997, -0.9113]\n",
    "\n",
    "# Calculation of zeros, poles\n",
    "zeros, poles, gain = sp.tf2zpk(B, A)\n",
    "\n",
    "# Filter is stable if absolute value of all poles is less than 1\n",
    "is_stable = (poles.size == 0) or numpy.all(numpy.abs(poles) < 1)\n",
    "\n",
    "if is_stable:\n",
    "    print (\"Filter je stabilný\")\n",
    "else:\n",
    "    print (\"Filter nieje stabilný\")\n",
    "\n",
    "\n"
   ]
  },
  {
   "cell_type": "markdown",
   "metadata": {},
   "source": [
    "## Riešenie úlohy 4."
   ]
  },
  {
   "cell_type": "code",
   "execution_count": 4,
   "metadata": {},
   "outputs": [
    {
     "name": "stdout",
     "output_type": "stream",
     "text": [
      "Tento filter je dolná priepusť. \n",
      "\n",
      "Mezná frekvencia filtra:  [484.375] [Hz]\n"
     ]
    }
   ],
   "source": [
    "w, H = sp.freqz(B, A)\n",
    "H = numpy.abs(H)\n",
    "w = w / 2 / numpy.pi * fs\n",
    "\n",
    "\n",
    "print(\"Tento filter je dolná priepusť.\", \"\\n\")\n",
    "\n",
    "# Cutoff frequency is located as local minimum of range <0, 1000> Hz\n",
    "# Get first 64 members of H, rest are useless \n",
    "H_copy = H[:64]\n",
    "# Get minimum from this 64 members\n",
    "H_min = H_copy.min()\n",
    "# Find the index of the minimum\n",
    "H_min_index = numpy.where(H_copy == H_min)\n",
    "print(\"Mezná frekvencia filtra: \", w[H_min_index], \"[Hz]\")"
   ]
  },
  {
   "cell_type": "markdown",
   "metadata": {},
   "source": [
    "## Riešenie úlohy 5."
   ]
  },
  {
   "cell_type": "code",
   "execution_count": 5,
   "metadata": {},
   "outputs": [
    {
     "name": "stdout",
     "output_type": "stream",
     "text": [
      "Signál ss[n] budem posúvať o 16 [vzorok] dolava\n"
     ]
    }
   ],
   "source": [
    "# filter out ss\n",
    "ss = sp.lfilter(B, A, s)\n",
    "\n",
    "# From graph I see that the ss[n] is shifted by nearly half of the axis_x part, aprox. 0.001s\n",
    "# Need to shift the ss[n] by 0.00125 [s]\n",
    "shift_samples_count = int(fs * 0.001)\n",
    "print ('Signál ss[n] budem posúvať o', shift_samples_count, \"[vzorok]\", \"dolava\")"
   ]
  },
  {
   "cell_type": "markdown",
   "metadata": {},
   "source": [
    "## Riešenie úlohy 6."
   ]
  },
  {
   "cell_type": "code",
   "execution_count": 6,
   "metadata": {},
   "outputs": [],
   "source": [
    "# shifting ss[n] by 16 samples\n",
    "ss_shifted = ss[shift_samples_count:]\n",
    "\n",
    "# decode shifted symbols \n",
    "ss_shifted_symbols = numpy.array([], dtype = numpy.float)\n",
    "for i in range(0, ss_shifted.size, 16):\n",
    "    mid = i + 7\n",
    "    if mid > s.size:\n",
    "        break\n",
    "    if ss_shifted[mid] > 0:\n",
    "        ss_shifted_symbols = numpy.append(ss_shifted_symbols, 1)\n",
    "    elif ss_shifted[mid] < 0:\n",
    "        ss_shifted_symbols = numpy.append(ss_shifted_symbols, 0)\n"
   ]
  },
  {
   "cell_type": "markdown",
   "metadata": {},
   "source": [
    "## Riešenie úlohy 7."
   ]
  },
  {
   "cell_type": "code",
   "execution_count": 7,
   "metadata": {},
   "outputs": [
    {
     "name": "stdout",
     "output_type": "stream",
     "text": [
      "Počet chybných bitov vzniknutých posunom: 95 [vzorok]\n",
      "Symboly dekódované ss_shifted majú chybovosť: 4.752376188094047 %\n"
     ]
    }
   ],
   "source": [
    "# Also need to cut one symbol away from symbols decoded from s[n]\n",
    "symbols = symbols[:1999]\n",
    "\n",
    "xor_result = numpy.logical_xor(symbols, ss_shifted_symbols)\n",
    "xor_result = numpy.count_nonzero(xor_result)\n",
    "print(\"Počet chybných bitov vzniknutých posunom:\", xor_result, \"[vzorok]\")\n",
    "\n",
    "result = (xor_result / symbols.size) * 100\n",
    "print(\"Symboly dekódované ss_shifted majú chybovosť:\", result, \"%\")"
   ]
  },
  {
   "cell_type": "markdown",
   "metadata": {},
   "source": [
    "## Riešenie úlohy 8."
   ]
  },
  {
   "cell_type": "code",
   "execution_count": 8,
   "metadata": {},
   "outputs": [],
   "source": [
    "from numpy.fft import fft, fftfreq\n",
    "\n",
    "# Calculate FFT\n",
    "fft_s = fft(s)\n",
    "fft_ss = fft(ss)\n",
    "\n",
    "# Get FFT frequencies\n",
    "fq_ss = fftfreq(fft_ss.size, d = one_sample)\n",
    "fq_s = fftfreq(fft_s.size,d = one_sample)"
   ]
  },
  {
   "cell_type": "markdown",
   "metadata": {},
   "source": [
    "## Riešenie úlohy 9."
   ]
  },
  {
   "cell_type": "code",
   "execution_count": 9,
   "metadata": {},
   "outputs": [
    {
     "name": "stdout",
     "output_type": "stream",
     "text": [
      "Kontrola integrálu p(x): 1.0000000000000002\n"
     ]
    }
   ],
   "source": [
    "s_min = numpy.min(s)\n",
    "s_max = numpy.max(s)\n",
    "n_aprx = 100 # trying to approximate 100 values\n",
    "\n",
    "# create x axis\n",
    "x = numpy.linspace(s_min, s_max, num = n_aprx)\n",
    "\n",
    "# get distance between two x points\n",
    "bin_distance = numpy.abs(x[2] - x[1])\n",
    "\n",
    "# create histogram\n",
    "hist, _ = numpy.histogram(s, n_aprx)\n",
    "\n",
    "\n",
    "# histogram / number of symbols / distance between two bins\n",
    "px = hist / s.size / bin_distance\n",
    "\n",
    "print('Kontrola integrálu p(x):',numpy.sum(px * bin_distance))"
   ]
  },
  {
   "cell_type": "markdown",
   "metadata": {},
   "source": [
    "## Riešenie úlohy 10."
   ]
  },
  {
   "cell_type": "code",
   "execution_count": 10,
   "metadata": {},
   "outputs": [],
   "source": [
    "# Set up the x axis from -50 to 50, with 100 samples)\n",
    "k = numpy.linspace(-50, 50,100)\n",
    "\n",
    "\n",
    "# Make full correlation\n",
    "corr = numpy.correlate(s, s, 'full') / s.size\n",
    "\n",
    "# Calculate indexes\n",
    "wanted_correlation_start_index = int(((corr.size - 1) / 2) - 50)\n",
    "wanted_correlation_end_index = int(((corr.size - 1) / 2 + 50))\n",
    "wanted_correlation = corr[wanted_correlation_start_index : wanted_correlation_end_index]"
   ]
  },
  {
   "cell_type": "markdown",
   "metadata": {},
   "source": [
    "## Riešenie úlohy 11."
   ]
  },
  {
   "cell_type": "code",
   "execution_count": 11,
   "metadata": {},
   "outputs": [
    {
     "name": "stdout",
     "output_type": "stream",
     "text": [
      "Hodnota koeficientu R[0]: 0.2696339813973755\n",
      "Hodnota koeficientu R[1]: 0.23300420415043482\n",
      "Hodnota koeficientu R[16]: 0.004343476471694885\n"
     ]
    }
   ],
   "source": [
    "# r[0] is exact middle in -50 to 50\n",
    "r0 = int(wanted_correlation.size / 2)\n",
    "\n",
    "# middle + 1\n",
    "r1 = int((wanted_correlation.size / 2) + 1)\n",
    "\n",
    "# middle + 16\n",
    "r16 = int((wanted_correlation.size / 2) + 16)\n",
    "\n",
    "print('Hodnota koeficientu R[0]:', wanted_correlation[r0])\n",
    "print('Hodnota koeficientu R[1]:', wanted_correlation[r1])\n",
    "print('Hodnota koeficientu R[16]:', wanted_correlation[r16])"
   ]
  },
  {
   "cell_type": "markdown",
   "metadata": {},
   "source": [
    "## Riešenie úlohy 12."
   ]
  },
  {
   "cell_type": "code",
   "execution_count": 12,
   "metadata": {},
   "outputs": [],
   "source": [
    "# remove last sample so that the signals will have same size\n",
    "s_cutted = s[:31999]\n",
    "\n",
    "# s[n + 1]\n",
    "s_shifted1 = s[1:]\n",
    "\n",
    "# Trying to approxiamte 100 values\n",
    "n_aprx = 100\n",
    "\n",
    "# Create 2d histogram\n",
    "px1x2, x1_edges, x2_edges = numpy.histogram2d(s_cutted, s_shifted1, n_aprx, normed = True)\n",
    "\n",
    "# plot it\n",
    "X, Y = numpy.meshgrid(x1_edges, x2_edges)"
   ]
  },
  {
   "cell_type": "markdown",
   "metadata": {},
   "source": [
    "## Riešenie úlohy 13."
   ]
  },
  {
   "cell_type": "code",
   "execution_count": 13,
   "metadata": {},
   "outputs": [
    {
     "name": "stdout",
     "output_type": "stream",
     "text": [
      "Kontrola integrálu p(x): 0.9999999999999934\n"
     ]
    }
   ],
   "source": [
    "# Calculate size of one bin to calculate integral\n",
    "binsize = (numpy.abs(x1_edges[0] - x1_edges[1])) * (numpy.abs(x2_edges[0] - x2_edges[1]))\n",
    "print('Kontrola integrálu p(x):', numpy.sum(px1x2 * binsize))"
   ]
  },
  {
   "cell_type": "markdown",
   "metadata": {},
   "source": [
    "## Riešenie úlohy 14."
   ]
  },
  {
   "cell_type": "code",
   "execution_count": 14,
   "metadata": {
    "scrolled": true
   },
   "outputs": [
    {
     "name": "stdout",
     "output_type": "stream",
     "text": [
      "R[0] z p(x1, x2, 1) je: 0.23301080280423597\n"
     ]
    }
   ],
   "source": [
    "# Need to correct the X and Y for r1 (100 members) \n",
    "X_correct = X[:n_aprx,:n_aprx]\n",
    "Y_correct = Y[:n_aprx,:n_aprx]\n",
    "\n",
    "# The sum of sum(X members * Y members * px1x2) * binsize results for the r0\n",
    "r0 = numpy.sum(numpy.sum(X_correct * Y_correct * px1x2) * binsize)\n",
    "print(\"R[0] z p(x1, x2, 1) je:\", r0)"
   ]
  },
  {
   "cell_type": "code",
   "execution_count": null,
   "metadata": {},
   "outputs": [],
   "source": []
  }
 ],
 "metadata": {
  "kernelspec": {
   "display_name": "Python 3",
   "language": "python",
   "name": "python3"
  },
  "language_info": {
   "codemirror_mode": {
    "name": "ipython",
    "version": 3
   },
   "file_extension": ".py",
   "mimetype": "text/x-python",
   "name": "python",
   "nbconvert_exporter": "python",
   "pygments_lexer": "ipython3",
   "version": "3.6.7"
  }
 },
 "nbformat": 4,
 "nbformat_minor": 2
}
